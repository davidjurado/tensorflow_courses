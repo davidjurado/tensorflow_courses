{
 "cells": [
  {
   "cell_type": "markdown",
   "metadata": {},
   "source": [
    "## Week 4"
   ]
  },
  {
   "cell_type": "code",
   "execution_count": null,
   "metadata": {
    "colab": {},
    "colab_type": "code",
    "id": "BOwsuGQQY9OL"
   },
   "outputs": [],
   "source": [
    "from tensorflow.keras.preprocessing.sequence import pad_sequences\n",
    "from tensorflow.keras.layers import Embedding, LSTM, Dense, Dropout, Bidirectional\n",
    "from tensorflow.keras.preprocessing.text import Tokenizer\n",
    "from tensorflow.keras.models import Sequential\n",
    "from tensorflow.keras.optimizers import Adam\n",
    "from keras import regularizers\n",
    "import tensorflow.keras.utils as ku \n",
    "import numpy as np "
   ]
  },
  {
   "cell_type": "code",
   "execution_count": 3,
   "metadata": {},
   "outputs": [
    {
     "name": "stdout",
     "output_type": "stream",
     "text": [
      "--2022-01-14 23:04:09--  https://storage.googleapis.com/laurencemoroney-blog.appspot.com/sonnets.txt\n",
      "Resolving storage.googleapis.com (storage.googleapis.com)... 142.250.78.176, 172.217.30.208, 142.250.78.16, ...\n",
      "Connecting to storage.googleapis.com (storage.googleapis.com)|142.250.78.176|:443... connected.\n",
      "HTTP request sent, awaiting response... 200 OK\n",
      "Length: 93578 (91K) [text/plain]\n",
      "Saving to: ‘/tmp/sonnets.txt’\n",
      "\n",
      "/tmp/sonnets.txt    100%[===================>]  91.38K   515KB/s    in 0.2s    \n",
      "\n",
      "2022-01-14 23:04:10 (515 KB/s) - ‘/tmp/sonnets.txt’ saved [93578/93578]\n",
      "\n"
     ]
    }
   ],
   "source": [
    "!wget --no-check-certificate \\\n",
    "    https://storage.googleapis.com/laurencemoroney-blog.appspot.com/sonnets.txt \\\n",
    "    -O /tmp/sonnets.txt"
   ]
  },
  {
   "cell_type": "code",
   "execution_count": null,
   "metadata": {
    "colab": {
     "base_uri": "https://localhost:8080/",
     "height": 231
    },
    "colab_type": "code",
    "id": "PRnDnCW-Z7qv",
    "outputId": "b517a291-7cf2-4ed1-9eb9-5fdada290a7a"
   },
   "outputs": [],
   "source": [
    "tokenizer = Tokenizer()\n",
    "\n",
    "data = open('/tmp/sonnets.txt').read()\n",
    "\n",
    "corpus = data.lower().split(\"\\n\")\n",
    "\n",
    "\n",
    "tokenizer.fit_on_texts(corpus)\n",
    "total_words = len(tokenizer.word_index) + 1\n",
    "\n",
    "# create input sequences using list of tokens\n",
    "input_sequences = []\n",
    "\n",
    "for line in corpus:\n",
    "    token_list = tokenizer.texts_to_sequences([line])[0]\n",
    "    for i in range(1, len(token_list)):\n",
    "        n_gram_sequence = token_list[:i+1]\n",
    "        input_sequences.append(n_gram_sequence)\n",
    "\n",
    "\n",
    "# pad sequences \n",
    "max_sequence_len = max([len(x) for x in input_sequences])\n",
    "input_sequences = np.array(pad_sequences(input_sequences, maxlen=max_sequence_len, padding='pre'))\n",
    "\n",
    "# create predictors and label\n",
    "predictors, label = input_sequences[:,:-1],input_sequences[:,-1]\n",
    "\n",
    "label = ku.to_categorical(label, num_classes=total_words)"
   ]
  },
  {
   "cell_type": "code",
   "execution_count": 6,
   "metadata": {
    "colab": {
     "base_uri": "https://localhost:8080/",
     "height": 407
    },
    "colab_type": "code",
    "id": "w9vH8Y59ajYL",
    "outputId": "ed08b40c-7dfe-4e4a-e062-8e8d62ab6a88"
   },
   "outputs": [
    {
     "name": "stdout",
     "output_type": "stream",
     "text": [
      "Model: \"sequential_1\"\n",
      "_________________________________________________________________\n",
      "Layer (type)                 Output Shape              Param #   \n",
      "=================================================================\n",
      "embedding_1 (Embedding)      (None, 10, 100)           321100    \n",
      "_________________________________________________________________\n",
      "bidirectional_1 (Bidirection (None, 10, 300)           301200    \n",
      "_________________________________________________________________\n",
      "dropout_1 (Dropout)          (None, 10, 300)           0         \n",
      "_________________________________________________________________\n",
      "lstm_3 (LSTM)                (None, 100)               160400    \n",
      "_________________________________________________________________\n",
      "dense (Dense)                (None, 1605)              162105    \n",
      "_________________________________________________________________\n",
      "dense_1 (Dense)              (None, 3211)              5156866   \n",
      "=================================================================\n",
      "Total params: 6,101,671\n",
      "Trainable params: 6,101,671\n",
      "Non-trainable params: 0\n",
      "_________________________________________________________________\n",
      "None\n"
     ]
    }
   ],
   "source": [
    "model = Sequential()\n",
    "model.add(Embedding(total_words, 100, input_length=max_sequence_len-1))\n",
    "model.add(Bidirectional(LSTM(150, return_sequences=True)))\n",
    "model.add(Dropout(0.2))\n",
    "model.add(LSTM(100))\n",
    "model.add(Dense(total_words/2, activation='relu', kernel_regularizer=regularizers.l2(l=0.01)))\n",
    "model.add(Dense(total_words, activation='softmax'))\n",
    "# Pick an optimizer\n",
    "model.compile(loss='categorical_crossentropy', optimizer='adam', metrics=['accuracy'])\n",
    "print(model.summary())\n"
   ]
  },
  {
   "cell_type": "code",
   "execution_count": 7,
   "metadata": {
    "colab": {
     "base_uri": "https://localhost:8080/",
     "height": 1000
    },
    "colab_type": "code",
    "id": "AIg2f1HBxqof",
    "outputId": "7fd29df2-482c-44af-f494-820525d4b5ff"
   },
   "outputs": [
    {
     "name": "stdout",
     "output_type": "stream",
     "text": [
      "WARNING:tensorflow:From /usr/local/lib/python3.6/dist-packages/tensorflow_core/python/ops/math_grad.py:1424: where (from tensorflow.python.ops.array_ops) is deprecated and will be removed in a future version.\n",
      "Instructions for updating:\n",
      "Use tf.where in 2.0, which has the same broadcast rule as np.where\n",
      "Train on 15462 samples\n",
      "Epoch 1/100\n",
      "15462/15462 [==============================] - 26s 2ms/sample - loss: 6.9058 - acc: 0.0205\n",
      "Epoch 2/100\n",
      "15462/15462 [==============================] - 25s 2ms/sample - loss: 6.5046 - acc: 0.0210\n",
      "Epoch 3/100\n",
      "15462/15462 [==============================] - 25s 2ms/sample - loss: 6.3950 - acc: 0.0240\n",
      "Epoch 4/100\n",
      "15462/15462 [==============================] - 25s 2ms/sample - loss: 6.2653 - acc: 0.0295\n",
      "Epoch 5/100\n",
      "15462/15462 [==============================] - 25s 2ms/sample - loss: 6.1733 - acc: 0.0351\n",
      "Epoch 6/100\n",
      "15462/15462 [==============================] - 25s 2ms/sample - loss: 6.0888 - acc: 0.0380\n",
      "Epoch 7/100\n",
      "15462/15462 [==============================] - 25s 2ms/sample - loss: 6.0057 - acc: 0.0404\n",
      "Epoch 8/100\n",
      "15462/15462 [==============================] - 25s 2ms/sample - loss: 5.9270 - acc: 0.0440\n",
      "Epoch 9/100\n",
      "15462/15462 [==============================] - 25s 2ms/sample - loss: 5.8379 - acc: 0.0470\n",
      "Epoch 10/100\n",
      "15462/15462 [==============================] - 25s 2ms/sample - loss: 5.7474 - acc: 0.0511\n",
      "Epoch 11/100\n",
      "15462/15462 [==============================] - 25s 2ms/sample - loss: 5.6546 - acc: 0.0569\n",
      "Epoch 12/100\n",
      "15462/15462 [==============================] - 25s 2ms/sample - loss: 5.5534 - acc: 0.0632\n",
      "Epoch 13/100\n",
      "15462/15462 [==============================] - 25s 2ms/sample - loss: 5.4472 - acc: 0.0698\n",
      "Epoch 14/100\n",
      "15462/15462 [==============================] - 25s 2ms/sample - loss: 5.3417 - acc: 0.0786\n",
      "Epoch 15/100\n",
      "15462/15462 [==============================] - 25s 2ms/sample - loss: 5.2252 - acc: 0.0858\n",
      "Epoch 16/100\n",
      "15462/15462 [==============================] - 25s 2ms/sample - loss: 5.1198 - acc: 0.0925\n",
      "Epoch 17/100\n",
      "15462/15462 [==============================] - 25s 2ms/sample - loss: 5.0088 - acc: 0.1002\n",
      "Epoch 18/100\n",
      "15462/15462 [==============================] - 25s 2ms/sample - loss: 4.9019 - acc: 0.1089\n",
      "Epoch 19/100\n",
      "15462/15462 [==============================] - 25s 2ms/sample - loss: 4.8001 - acc: 0.1174\n",
      "Epoch 20/100\n",
      "15462/15462 [==============================] - 25s 2ms/sample - loss: 4.6916 - acc: 0.1242\n",
      "Epoch 21/100\n",
      "15462/15462 [==============================] - 25s 2ms/sample - loss: 4.5869 - acc: 0.1354\n",
      "Epoch 22/100\n",
      "15462/15462 [==============================] - 25s 2ms/sample - loss: 4.4799 - acc: 0.1479\n",
      "Epoch 23/100\n",
      "15462/15462 [==============================] - 25s 2ms/sample - loss: 4.3789 - acc: 0.1566\n",
      "Epoch 24/100\n",
      "15462/15462 [==============================] - 25s 2ms/sample - loss: 4.2798 - acc: 0.1712\n",
      "Epoch 25/100\n",
      "15462/15462 [==============================] - 25s 2ms/sample - loss: 4.1711 - acc: 0.1799\n",
      "Epoch 26/100\n",
      "15462/15462 [==============================] - 25s 2ms/sample - loss: 4.0724 - acc: 0.1923\n",
      "Epoch 27/100\n",
      "15462/15462 [==============================] - 25s 2ms/sample - loss: 3.9670 - acc: 0.2091\n",
      "Epoch 28/100\n",
      "15462/15462 [==============================] - 25s 2ms/sample - loss: 3.8777 - acc: 0.2266\n",
      "Epoch 29/100\n",
      "15462/15462 [==============================] - 25s 2ms/sample - loss: 3.7807 - acc: 0.2413\n",
      "Epoch 30/100\n",
      "15462/15462 [==============================] - 24s 2ms/sample - loss: 3.6879 - acc: 0.2597\n",
      "Epoch 31/100\n",
      "15462/15462 [==============================] - 25s 2ms/sample - loss: 3.5918 - acc: 0.2756\n",
      "Epoch 32/100\n",
      "15462/15462 [==============================] - 25s 2ms/sample - loss: 3.5031 - acc: 0.2984\n",
      "Epoch 33/100\n",
      "15462/15462 [==============================] - 24s 2ms/sample - loss: 3.4135 - acc: 0.3155\n",
      "Epoch 34/100\n",
      "15462/15462 [==============================] - 25s 2ms/sample - loss: 3.3255 - acc: 0.3349\n",
      "Epoch 35/100\n",
      "15462/15462 [==============================] - 24s 2ms/sample - loss: 3.2415 - acc: 0.3526\n",
      "Epoch 36/100\n",
      "15462/15462 [==============================] - 24s 2ms/sample - loss: 3.1601 - acc: 0.3711\n",
      "Epoch 37/100\n",
      "15462/15462 [==============================] - 24s 2ms/sample - loss: 3.0909 - acc: 0.3850\n",
      "Epoch 38/100\n",
      "15462/15462 [==============================] - 24s 2ms/sample - loss: 3.0223 - acc: 0.4032\n",
      "Epoch 39/100\n",
      "15462/15462 [==============================] - 24s 2ms/sample - loss: 2.9518 - acc: 0.4177\n",
      "Epoch 40/100\n",
      "15462/15462 [==============================] - 24s 2ms/sample - loss: 2.8726 - acc: 0.4353\n",
      "Epoch 41/100\n",
      "15462/15462 [==============================] - 24s 2ms/sample - loss: 2.7977 - acc: 0.4538\n",
      "Epoch 42/100\n",
      "15462/15462 [==============================] - 24s 2ms/sample - loss: 2.7463 - acc: 0.4664\n",
      "Epoch 43/100\n",
      "15462/15462 [==============================] - 25s 2ms/sample - loss: 2.6857 - acc: 0.4828\n",
      "Epoch 44/100\n",
      "15462/15462 [==============================] - 24s 2ms/sample - loss: 2.6197 - acc: 0.4942\n",
      "Epoch 45/100\n",
      "15462/15462 [==============================] - 24s 2ms/sample - loss: 2.5617 - acc: 0.5085\n",
      "Epoch 46/100\n",
      "15462/15462 [==============================] - 25s 2ms/sample - loss: 2.4872 - acc: 0.5276\n",
      "Epoch 47/100\n",
      "15462/15462 [==============================] - 24s 2ms/sample - loss: 2.4455 - acc: 0.5352\n",
      "Epoch 48/100\n",
      "15462/15462 [==============================] - 25s 2ms/sample - loss: 2.4013 - acc: 0.5424\n",
      "Epoch 49/100\n",
      "15462/15462 [==============================] - 25s 2ms/sample - loss: 2.3472 - acc: 0.5571\n",
      "Epoch 50/100\n",
      "15462/15462 [==============================] - 24s 2ms/sample - loss: 2.2962 - acc: 0.5686\n",
      "Epoch 51/100\n",
      "15462/15462 [==============================] - 25s 2ms/sample - loss: 2.2598 - acc: 0.5779\n",
      "Epoch 52/100\n",
      "15462/15462 [==============================] - 25s 2ms/sample - loss: 2.2018 - acc: 0.5915\n",
      "Epoch 53/100\n",
      "15462/15462 [==============================] - 25s 2ms/sample - loss: 2.1691 - acc: 0.5968\n",
      "Epoch 54/100\n",
      "15462/15462 [==============================] - 24s 2ms/sample - loss: 2.1213 - acc: 0.6050\n",
      "Epoch 55/100\n",
      "15462/15462 [==============================] - 24s 2ms/sample - loss: 2.0697 - acc: 0.6192\n",
      "Epoch 56/100\n",
      "15462/15462 [==============================] - 25s 2ms/sample - loss: 2.0345 - acc: 0.6273\n",
      "Epoch 57/100\n",
      "15462/15462 [==============================] - 24s 2ms/sample - loss: 1.9907 - acc: 0.6391\n",
      "Epoch 58/100\n",
      "15462/15462 [==============================] - 25s 2ms/sample - loss: 1.9547 - acc: 0.6449\n",
      "Epoch 59/100\n",
      "15462/15462 [==============================] - 25s 2ms/sample - loss: 1.9253 - acc: 0.6494\n",
      "Epoch 60/100\n",
      "15462/15462 [==============================] - 25s 2ms/sample - loss: 1.8905 - acc: 0.6574\n",
      "Epoch 61/100\n",
      "15462/15462 [==============================] - 24s 2ms/sample - loss: 1.8657 - acc: 0.6637\n",
      "Epoch 62/100\n",
      "15462/15462 [==============================] - 25s 2ms/sample - loss: 1.8443 - acc: 0.6693\n",
      "Epoch 63/100\n",
      "15462/15462 [==============================] - 25s 2ms/sample - loss: 1.8086 - acc: 0.6778\n",
      "Epoch 64/100\n",
      "15462/15462 [==============================] - 25s 2ms/sample - loss: 1.7568 - acc: 0.6911\n",
      "Epoch 65/100\n",
      "15462/15462 [==============================] - 25s 2ms/sample - loss: 1.7439 - acc: 0.6905\n",
      "Epoch 66/100\n",
      "15462/15462 [==============================] - 25s 2ms/sample - loss: 1.7002 - acc: 0.7010\n",
      "Epoch 67/100\n",
      "15462/15462 [==============================] - 25s 2ms/sample - loss: 1.6758 - acc: 0.7001\n",
      "Epoch 68/100\n",
      "15462/15462 [==============================] - 25s 2ms/sample - loss: 1.6500 - acc: 0.7084\n",
      "Epoch 69/100\n",
      "15462/15462 [==============================] - 24s 2ms/sample - loss: 1.6205 - acc: 0.7176\n",
      "Epoch 70/100\n",
      "15462/15462 [==============================] - 25s 2ms/sample - loss: 1.6026 - acc: 0.7211\n",
      "Epoch 71/100\n",
      "15462/15462 [==============================] - 25s 2ms/sample - loss: 1.6161 - acc: 0.7109\n",
      "Epoch 72/100\n",
      "15462/15462 [==============================] - 25s 2ms/sample - loss: 1.5583 - acc: 0.7272\n",
      "Epoch 73/100\n",
      "15462/15462 [==============================] - 25s 2ms/sample - loss: 1.5304 - acc: 0.7347\n",
      "Epoch 74/100\n",
      "15462/15462 [==============================] - 24s 2ms/sample - loss: 1.5101 - acc: 0.7377\n",
      "Epoch 75/100\n",
      "15462/15462 [==============================] - 29s 2ms/sample - loss: 1.4756 - acc: 0.7468\n",
      "Epoch 76/100\n",
      "15462/15462 [==============================] - 25s 2ms/sample - loss: 1.4783 - acc: 0.7415\n",
      "Epoch 77/100\n",
      "15462/15462 [==============================] - 25s 2ms/sample - loss: 1.4510 - acc: 0.7499\n",
      "Epoch 78/100\n",
      "15462/15462 [==============================] - 25s 2ms/sample - loss: 1.4460 - acc: 0.7470\n",
      "Epoch 79/100\n",
      "15462/15462 [==============================] - 25s 2ms/sample - loss: 1.4170 - acc: 0.7573\n",
      "Epoch 80/100\n",
      "15462/15462 [==============================] - 25s 2ms/sample - loss: 1.3883 - acc: 0.7628\n",
      "Epoch 81/100\n",
      "15462/15462 [==============================] - 25s 2ms/sample - loss: 1.3868 - acc: 0.7592\n",
      "Epoch 82/100\n",
      "15462/15462 [==============================] - 25s 2ms/sample - loss: 1.3675 - acc: 0.7656\n",
      "Epoch 83/100\n",
      "15462/15462 [==============================] - 25s 2ms/sample - loss: 1.3454 - acc: 0.7706\n",
      "Epoch 84/100\n",
      "15462/15462 [==============================] - 25s 2ms/sample - loss: 1.3261 - acc: 0.7760\n",
      "Epoch 85/100\n",
      "15462/15462 [==============================] - 25s 2ms/sample - loss: 1.3100 - acc: 0.7729\n",
      "Epoch 86/100\n",
      "15462/15462 [==============================] - 25s 2ms/sample - loss: 1.3077 - acc: 0.7762\n",
      "Epoch 87/100\n",
      "15462/15462 [==============================] - 25s 2ms/sample - loss: 1.2919 - acc: 0.7762\n",
      "Epoch 88/100\n",
      "15462/15462 [==============================] - 25s 2ms/sample - loss: 1.2859 - acc: 0.7760\n",
      "Epoch 89/100\n",
      "15462/15462 [==============================] - 25s 2ms/sample - loss: 1.2622 - acc: 0.7797\n",
      "Epoch 90/100\n",
      "15462/15462 [==============================] - 25s 2ms/sample - loss: 1.2526 - acc: 0.7855\n",
      "Epoch 91/100\n",
      "15462/15462 [==============================] - 25s 2ms/sample - loss: 1.2612 - acc: 0.7804\n",
      "Epoch 92/100\n",
      "15462/15462 [==============================] - 25s 2ms/sample - loss: 1.2430 - acc: 0.7847\n",
      "Epoch 93/100\n",
      "15462/15462 [==============================] - 25s 2ms/sample - loss: 1.2185 - acc: 0.7868\n",
      "Epoch 94/100\n",
      "15462/15462 [==============================] - 25s 2ms/sample - loss: 1.2057 - acc: 0.7888\n",
      "Epoch 95/100\n",
      "15462/15462 [==============================] - 25s 2ms/sample - loss: 1.1775 - acc: 0.7985\n",
      "Epoch 96/100\n",
      "15462/15462 [==============================] - 25s 2ms/sample - loss: 1.1753 - acc: 0.7957\n",
      "Epoch 97/100\n",
      "15462/15462 [==============================] - 25s 2ms/sample - loss: 1.1738 - acc: 0.7942\n",
      "Epoch 98/100\n",
      "15462/15462 [==============================] - 25s 2ms/sample - loss: 1.1563 - acc: 0.7994\n",
      "Epoch 99/100\n",
      "15462/15462 [==============================] - 25s 2ms/sample - loss: 1.1361 - acc: 0.8055\n",
      "Epoch 100/100\n",
      "15462/15462 [==============================] - 25s 2ms/sample - loss: 1.1417 - acc: 0.7994\n"
     ]
    }
   ],
   "source": [
    " history = model.fit(predictors, label, epochs=100, verbose=1)"
   ]
  },
  {
   "cell_type": "code",
   "execution_count": 8,
   "metadata": {
    "colab": {
     "base_uri": "https://localhost:8080/",
     "height": 565
    },
    "colab_type": "code",
    "id": "1fXTEO3GJ282",
    "outputId": "d3c97f21-0115-475e-cb0f-05447f42cadc"
   },
   "outputs": [
    {
     "data": {
      "image/png": "[encoded data removed]",
      "text/plain": [
       "<Figure size 432x288 with 1 Axes>"
      ]
     },
     "metadata": {
      "tags": []
     },
     "output_type": "display_data"
    },
    {
     "data": {
      "image/png": "[encoded data removed]",
      "text/plain": [
       "<Figure size 432x288 with 1 Axes>"
      ]
     },
     "metadata": {
      "tags": []
     },
     "output_type": "display_data"
    }
   ],
   "source": [
    "import matplotlib.pyplot as plt\n",
    "acc = history.history['acc']\n",
    "loss = history.history['loss']\n",
    "\n",
    "epochs = range(len(acc))\n",
    "\n",
    "plt.plot(epochs, acc, 'b', label='Training accuracy')\n",
    "plt.title('Training accuracy')\n",
    "\n",
    "plt.figure()\n",
    "\n",
    "plt.plot(epochs, loss, 'b', label='Training Loss')\n",
    "plt.title('Training loss')\n",
    "plt.legend()\n",
    "\n",
    "plt.show()"
   ]
  },
  {
   "cell_type": "code",
   "execution_count": 9,
   "metadata": {
    "colab": {
     "base_uri": "https://localhost:8080/",
     "height": 55
    },
    "colab_type": "code",
    "id": "6Vc6PHgxa6Hm",
    "outputId": "93262b13-746e-48f5-ed45-c53b3ce7c646"
   },
   "outputs": [
    {
     "name": "stdout",
     "output_type": "stream",
     "text": [
      "Help me Obi Wan Kenobi, you're my only hope or my heart's graces dead eye hate hate out of hate hate doth pride another heart not young that new eye before well spent pride weeds go speaking of light light light light spent words aside privilege heaven mistaking slain bow bow bow light grow sad treasure time's part quite ward ward brought ground ground hate light spent owe bow cross'd hate skill ' said be bevel remain thought hate ' live for store in this quite asleep dearth dead grow sad treasure heaven lie on thy part kind kind there hate still seem long one untrue young to me\n"
     ]
    }
   ],
   "source": [
    "seed_text = \"Help me Obi Wan Kenobi, you're my only hope\"\n",
    "next_words = 100\n",
    "  \n",
    "for _ in range(next_words):\n",
    "    token_list = tokenizer.texts_to_sequences([seed_text])[0]\n",
    "    token_list = pad_sequences([token_list], maxlen=max_sequence_len-1, padding='pre')\n",
    "    predicted = model.predict_classes(token_list, verbose=0)\n",
    "    output_word = \"\"\n",
    "    for word, index in tokenizer.word_index.items():\n",
    "        if index == predicted:\n",
    "            output_word = word\n",
    "            break\n",
    "    seed_text += \" \" + output_word\n",
    "print(seed_text)"
   ]
  }
 ],
 "metadata": {
  "accelerator": "GPU",
  "colab": {
   "name": "NLP-Week4-Exercise-Shakespeare-Question.ipynb",
   "provenance": []
  },
  "kernelspec": {
   "display_name": "Python 3",
   "language": "python",
   "name": "python3"
  },
  "language_info": {
   "codemirror_mode": {
    "name": "ipython",
    "version": 3
   },
   "file_extension": ".py",
   "mimetype": "text/x-python",
   "name": "python",
   "nbconvert_exporter": "python",
   "pygments_lexer": "ipython3",
   "version": "3.8.5"
  }
 },
 "nbformat": 4,
 "nbformat_minor": 1
}
